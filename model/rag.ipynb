{
 "cells": [
  {
   "cell_type": "code",
   "execution_count": null,
   "metadata": {},
   "outputs": [],
   "source": [
    "# 가상환경 활성화\n",
    "# source /Users/keemsub/Desktop/stockify/stockify/lib/stockify/bin/activate"
   ]
  },
  {
   "cell_type": "code",
   "execution_count": null,
   "metadata": {},
   "outputs": [],
   "source": [
    "#pip install langchain openai"
   ]
  },
  {
   "cell_type": "code",
   "execution_count": null,
   "metadata": {},
   "outputs": [],
   "source": [
    "import os\n",
    "from langchain.llms import OpenAI\n",
    "\n",
    "# OpenAI API 키 설정\n",
    "os.environ[\"OPENAI_API_KEY\"] = \"your-openai-api-key\""
   ]
  },
  {
   "cell_type": "code",
   "execution_count": null,
   "metadata": {},
   "outputs": [],
   "source": [
    "llm = OpenAI(\n",
    "    model=\"gpt-4\",  # GPT 모델 선택\n",
    "    temperature=0.2,  # 낮은 온도로 답변 정확성 강화\n",
    "    max_tokens=2000\n",
    ")\n",
    "llm = OpenAI(\n",
    "    model=\"gpt-4\",  # GPT 모델 선택\n",
    "    temperature=0.2,  # 낮은 온도로 답변 정확성 강화\n",
    "    max_tokens=2000\n",
    ")"
   ]
  },
  {
   "cell_type": "code",
   "execution_count": null,
   "metadata": {},
   "outputs": [],
   "source": [
    "from langchain.prompts import PromptTemplate\n",
    "\n",
    "# 주식 정보 특화 프롬프트\n",
    "stock_prompt = PromptTemplate(\n",
    "    input_variables=[\"question\", \"stock_data\"],\n",
    "    template=(\n",
    "        \"You are a financial advisor specializing in stock market analysis. \"\n",
    "        \"Based on the following stock data:\\n\\n{stock_data}\\n\\n\"\n",
    "        \"Answer the following question accurately and concisely:\\n\\n{question}\"\n",
    "    )\n",
    ")"
   ]
  },
  {
   "cell_type": "code",
   "execution_count": null,
   "metadata": {},
   "outputs": [],
   "source": [
    "import yfinance as yf\n",
    "\n",
    "def get_stock_data(ticker):\n",
    "    stock = yf.Ticker(ticker)\n",
    "    history = stock.history(period=\"1d\")\n",
    "    return f\"Stock: {ticker}\\nClose Price: {history['Close'].iloc[-1]}\\nVolume: {history['Volume'].iloc[-1]}\""
   ]
  },
  {
   "cell_type": "code",
   "execution_count": null,
   "metadata": {},
   "outputs": [],
   "source": [
    "from langchain.chains import LLMChain\n",
    "\n",
    "# LLM 체인 생성\n",
    "chain = LLMChain(\n",
    "    llm=llm,\n",
    "    prompt=stock_prompt\n",
    ")\n",
    "\n",
    "# 예제 실행\n",
    "stock_data = get_stock_data(\"AAPL\")  # 애플 주식 정보\n",
    "question = \"What is the trend for this stock today?\"\n",
    "\n",
    "response = chain.run({\"question\": question, \"stock_data\": stock_data})\n",
    "print(response)\n"
   ]
  },
  {
   "cell_type": "code",
   "execution_count": null,
   "metadata": {},
   "outputs": [],
   "source": []
  }
 ],
 "metadata": {
  "kernelspec": {
   "display_name": "Python (stockify)",
   "language": "python",
   "name": "stockify"
  },
  "language_info": {
   "codemirror_mode": {
    "name": "ipython",
    "version": 3
   },
   "file_extension": ".py",
   "mimetype": "text/x-python",
   "name": "python",
   "nbconvert_exporter": "python",
   "pygments_lexer": "ipython3",
   "version": "3.9.6"
  }
 },
 "nbformat": 4,
 "nbformat_minor": 2
}
